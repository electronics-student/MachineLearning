{
 "cells": [
  {
   "cell_type": "code",
   "execution_count": 1,
   "id": "6e17ce38-a04c-489a-ac51-d8b3251fece0",
   "metadata": {},
   "outputs": [],
   "source": [
    "import pickle"
   ]
  },
  {
   "cell_type": "code",
   "execution_count": 2,
   "id": "e34b4c95-4cdd-4e80-b121-0cb07ae212a8",
   "metadata": {},
   "outputs": [],
   "source": [
    "loaded_model=pickle.load(open(\"final_trained_Mul_model.sav\",'rb'))"
   ]
  },
  {
   "cell_type": "code",
   "execution_count": 5,
   "id": "e219322f-e470-4c70-85f9-647a5a370910",
   "metadata": {},
   "outputs": [
    {
     "name": "stderr",
     "output_type": "stream",
     "text": [
      "/home/mehzayazeed/ai_env/lib/python3.12/site-packages/sklearn/utils/validation.py:2739: UserWarning: X does not have valid feature names, but LinearRegression was fitted with feature names\n",
      "  warnings.warn(\n"
     ]
    }
   ],
   "source": [
    "result=loaded_model.predict([[150000,35000,98000,1,0]])"
   ]
  },
  {
   "cell_type": "code",
   "execution_count": 6,
   "id": "e9681b52-1b80-4bb3-a01e-7ee335ff76e8",
   "metadata": {},
   "outputs": [
    {
     "data": {
      "text/plain": [
       "array([[165589.28261126]])"
      ]
     },
     "execution_count": 6,
     "metadata": {},
     "output_type": "execute_result"
    }
   ],
   "source": [
    "result"
   ]
  },
  {
   "cell_type": "code",
   "execution_count": null,
   "id": "960fc780-e55d-42ae-b091-cbb7f189a85a",
   "metadata": {},
   "outputs": [],
   "source": []
  }
 ],
 "metadata": {
  "kernelspec": {
   "display_name": "Python 3 (ipykernel)",
   "language": "python",
   "name": "python3"
  },
  "language_info": {
   "codemirror_mode": {
    "name": "ipython",
    "version": 3
   },
   "file_extension": ".py",
   "mimetype": "text/x-python",
   "name": "python",
   "nbconvert_exporter": "python",
   "pygments_lexer": "ipython3",
   "version": "3.12.3"
  }
 },
 "nbformat": 4,
 "nbformat_minor": 5
}
